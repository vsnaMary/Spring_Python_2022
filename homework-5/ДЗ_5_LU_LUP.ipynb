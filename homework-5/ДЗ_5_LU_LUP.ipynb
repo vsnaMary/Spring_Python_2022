{
 "cells": [
  {
   "cell_type": "markdown",
   "id": "c50ea4df",
   "metadata": {},
   "source": [
    "## LU- и LUP-разложение\n",
    "<b>Олохтонова Мария Сергеевна\n",
    "    НПМбд-01-19</b>\n",
    "\n",
    "<b>LU-разложение</b>  — представление матрицы A в виде произведения двух матриц,<b>A = L * U</b> , где L — нижняя треугольная матрица, а U —верхняя треугольная матрица.\n",
    "\n"
   ]
  },
  {
   "cell_type": "markdown",
   "id": "91b2a89e",
   "metadata": {},
   "source": [
    "Для работы с алгоритмами необходимо импортировать библиотеки numpy и scipy (scipy для проверки работы алгоритмов)."
   ]
  },
  {
   "cell_type": "code",
   "execution_count": 1,
   "id": "a93c6ce4",
   "metadata": {},
   "outputs": [],
   "source": [
    "import numpy as np\n",
    "import scipy.linalg"
   ]
  },
  {
   "cell_type": "code",
   "execution_count": 7,
   "id": "c64a6f09",
   "metadata": {},
   "outputs": [],
   "source": [
    "def LU(A):\n",
    "    n = A.shape[0]\n",
    "    L = np.eye(n)\n",
    "    U = np.zeros((n, n))\n",
    "\n",
    "    for x in range(n * n):\n",
    "        i = x // n\n",
    "        j = x % n\n",
    "        if i <= j:\n",
    "            U[i, j] = A[i, j] - np.dot(L[i, :i], U[:i, j])\n",
    "        else:\n",
    "            L[i, j] = (A[i, j] - np.dot(L[i, :j], U[:j, j])) / U[j, j]\n",
    "\n",
    "    return L, U"
   ]
  },
  {
   "cell_type": "markdown",
   "id": "924792ca",
   "metadata": {},
   "source": [
    "В LU-разложении мы делим на диагональный элемент матрицы А, поэтому он не должен быть равен 0."
   ]
  },
  {
   "cell_type": "code",
   "execution_count": 3,
   "id": "609bb665",
   "metadata": {},
   "outputs": [
    {
     "name": "stdout",
     "output_type": "stream",
     "text": [
      "L = \n",
      " [[1. 0. 0.]\n",
      " [4. 1. 0.]\n",
      " [7. 2. 1.]] \n",
      "\n",
      "U = \n",
      " [[ 1.  2.  3.]\n",
      " [ 0. -3. -6.]\n",
      " [ 0.  0.  0.]] \n",
      "\n",
      "L * U = \n",
      " [[1. 2. 3.]\n",
      " [4. 5. 6.]\n",
      " [7. 8. 9.]] \n",
      "\n",
      "С нулями на диагонали: \n",
      "\n",
      "L = \n",
      " [[ 1.  0.  0.]\n",
      " [nan  1.  0.]\n",
      " [inf nan  1.]] \n",
      "\n",
      "U = \n",
      " [[ 0.  0.  1.]\n",
      " [ 0. nan nan]\n",
      " [ 0.  0. nan]] \n",
      "\n",
      "L * U = \n",
      " [[ 0. nan nan]\n",
      " [nan nan nan]\n",
      " [nan nan nan]] \n",
      "\n"
     ]
    },
    {
     "name": "stderr",
     "output_type": "stream",
     "text": [
      "/tmp/ipykernel_91296/2008434355.py:12: RuntimeWarning: invalid value encountered in double_scalars\n",
      "  L[i, j] = (A[i, j] - np.dot(L[i, :j], U[:j, j])) / U[j, j]\n",
      "/tmp/ipykernel_91296/2008434355.py:12: RuntimeWarning: divide by zero encountered in double_scalars\n",
      "  L[i, j] = (A[i, j] - np.dot(L[i, :j], U[:j, j])) / U[j, j]\n",
      "/tmp/ipykernel_91296/2294609705.py:6: RuntimeWarning: invalid value encountered in matmul\n",
      "  print('L * U = \\n', L @ U, '\\n')\n"
     ]
    }
   ],
   "source": [
    "def test_lu(A):\n",
    "    L, U = LU(A)\n",
    "\n",
    "    print('L = \\n', L, '\\n')\n",
    "    print('U = \\n', U, '\\n')\n",
    "    print('L * U = \\n', L @ U, '\\n')\n",
    "mtx = np.array([[1, 2, 3], \n",
    "                [4, 5, 6], \n",
    "                [7, 8, 9]], dtype=float)\n",
    "test_lu(mtx)\n",
    "# mtx = np.array([[1, 1, 0], [0, 6, 1], [8, 0, 0]], dtype=float)\n",
    "print('С нулями на диагонали:', '\\n')\n",
    "diag_nul_mtx = np.array([[0, 0, 1],\n",
    "                         [0, 1, 0],\n",
    "                         [1, 0, 0]], dtype=float)\n",
    "test_lu(diag_nul_mtx)"
   ]
  },
  {
   "cell_type": "markdown",
   "id": "d81cccf5",
   "metadata": {},
   "source": [
    "Такое разложение может быть использовано для решения семейства систем линейных уравнений с различными векторами b в правой части:\n",
    "<b>Ax = b</b>. Где A - невырожденная матрица коэффициентов системы.\n",
    "Тогда CЛАУ представляется в виде: <b>LUx = b</b> "
   ]
  },
  {
   "cell_type": "markdown",
   "id": "d28a0f48",
   "metadata": {},
   "source": [
    "<b>LUx = b</b> \n",
    "Эта система может быть решена в два шага. На первом шаге решается система <b>Ly=b</b>. Поскольку L — нижняя треугольная матрица, эта система решается непосредственно прямой подстановкой:\n",
    "\n",
    "На втором шаге решается система <b>Ux=y</b>. <b></b> Поскольку U — верхняя треугольная матрица, эта система решается непосредственно обратной подстановкой.\n"
   ]
  },
  {
   "cell_type": "code",
   "execution_count": 4,
   "id": "21ca7f08",
   "metadata": {},
   "outputs": [],
   "source": [
    "def LU_solver(A, b):\n",
    "    L, U = LU(A)\n",
    "    n = A.shape[0]\n",
    "\n",
    "    # L * y = b\n",
    "    y = np.array([b[0]/L[0, 0]])\n",
    "    for i in range(1, n):\n",
    "        yi = (b[i] - np.dot(L[i, :i], y))/L[i, i]\n",
    "        y = np.append(y, yi)\n",
    "\n",
    "    # U * x = y\n",
    "    # Используем такой же алгоритм, но переворачиваем матрицу\n",
    "    # и вектор значений (np.flip)\n",
    "    U = np.flip(U)\n",
    "    y = np.flip(y)\n",
    "    x = np.array([y[0] / U[0, 0]])\n",
    "    for i in range(1, n):\n",
    "        xi = (y[i] - np.dot(U[i, :i], x)) / U[i, i]\n",
    "        x = np.append(x, xi)\n",
    "\n",
    "    return np.flip(x)"
   ]
  },
  {
   "cell_type": "code",
   "execution_count": 8,
   "id": "c7aff39f",
   "metadata": {},
   "outputs": [
    {
     "name": "stdout",
     "output_type": "stream",
     "text": [
      "[-1.  1.  0.]\n"
     ]
    }
   ],
   "source": [
    "mtx = np.array([[1, 2, 3], \n",
    "                [4, 5, 6], \n",
    "                [7, 8, 10]], dtype=float)\n",
    "b = np.array([1, 1, 1])\n",
    "print(LU_solver(mtx,b))"
   ]
  },
  {
   "cell_type": "markdown",
   "id": "656ba3bb",
   "metadata": {},
   "source": [
    "Проверяем, сравнивая с numpy"
   ]
  },
  {
   "cell_type": "code",
   "execution_count": 9,
   "id": "57858115",
   "metadata": {},
   "outputs": [
    {
     "data": {
      "text/plain": [
       "array([-1.00000000e+00,  1.00000000e+00,  3.80647894e-16])"
      ]
     },
     "execution_count": 9,
     "metadata": {},
     "output_type": "execute_result"
    }
   ],
   "source": [
    "np.linalg.solve(mtx, b)"
   ]
  },
  {
   "cell_type": "markdown",
   "id": "59d53b33",
   "metadata": {},
   "source": [
    "<b>LUP-разложение</b>\n",
    "В LU-разложении мы делим на диагональный элемент матрицы А, но может быть и так, что он равен нулю. Тогда мы можем в изначальной матрице переставлять строки, чтобы на диагонали был не 0, и запоминать перестановки в матрицу перестановок P.\n",
    "Ищем матрицу перестановок:"
   ]
  },
  {
   "cell_type": "code",
   "execution_count": 10,
   "id": "d0981b18",
   "metadata": {},
   "outputs": [],
   "source": [
    "def partial_pivot(A):\n",
    "    n = A.shape[0]\n",
    "    permutation = []\n",
    "    already = set()\n",
    "    indices = set([_ for _ in range(n)])\n",
    "\n",
    "    for i in range(n):\n",
    "        pivot = None\n",
    "        pivot_value = None\n",
    "\n",
    "        column = A[:, i]  # колонка номер i\n",
    "        good_indices = indices - already  # только индексы элементов, которых нет в already\n",
    "        with_indices = np.array(list(map(lambda i: (i, column[i]), good_indices)), dtype=int)  # пары (индекс, значение)\n",
    "        fast_pivot = max(with_indices, key=lambda e: np.abs(e[1]))[0]  # максимум из этих пар по модулю значения\n",
    "\n",
    "        # print(pivot, fast_pivot)\n",
    "\n",
    "        permutation.append(fast_pivot)\n",
    "        already.add(fast_pivot)\n",
    "\n",
    "    permutation_matrix = np.zeros(A.shape)\n",
    "    for i, item in enumerate(permutation):\n",
    "        permutation_matrix[i, item] = 1\n",
    "\n",
    "    return permutation_matrix\n",
    "\n"
   ]
  },
  {
   "cell_type": "markdown",
   "id": "d90a7caf",
   "metadata": {},
   "source": [
    "PLU должен работать и с матрицами, у которых 0 на главной диагонали."
   ]
  },
  {
   "cell_type": "code",
   "execution_count": 11,
   "id": "8cddaf50",
   "metadata": {},
   "outputs": [
    {
     "name": "stdout",
     "output_type": "stream",
     "text": [
      "P = \n",
      " [[0. 0. 1.]\n",
      " [0. 1. 0.]\n",
      " [1. 0. 0.]]\n",
      "L = \n",
      " [[1.         0.         0.        ]\n",
      " [0.57142857 1.         0.        ]\n",
      " [0.14285714 2.         1.        ]]\n",
      "U = \n",
      " [[ 7.          8.         10.        ]\n",
      " [ 0.          0.42857143  0.28571429]\n",
      " [ 0.          0.          1.        ]]\n",
      "P * A = \n",
      " [[ 7.  8. 10.]\n",
      " [ 4.  5.  6.]\n",
      " [ 1.  2.  3.]]\n",
      "L * U = \n",
      " [[ 7.  8. 10.]\n",
      " [ 4.  5.  6.]\n",
      " [ 1.  2.  3.]]\n"
     ]
    }
   ],
   "source": [
    "def test_plu(A):\n",
    "    P = partial_pivot(A)\n",
    "    A_p = P @ A\n",
    "    L, U = LU(A_p)\n",
    "\n",
    "    print('P = \\n', P)\n",
    "    print('L = \\n', L)\n",
    "    print('U = \\n', U)\n",
    "\n",
    "    print('P * A = \\n', P @ A)\n",
    "    print('L * U = \\n', L @ U)\n",
    "\n",
    "    # P * A = L * U           | * P^(-1)\n",
    "    # A = P^(-1) * L * U\n",
    "test_plu(mtx)"
   ]
  },
  {
   "cell_type": "code",
   "execution_count": 13,
   "id": "bb1effe6",
   "metadata": {},
   "outputs": [],
   "source": [
    "def PLU_solver(A, b):\n",
    "    P = partial_pivot(A)\n",
    "    b = P.dot(b)\n",
    "    A = P.dot(A)\n",
    "    return LU_solver(A, b)\n"
   ]
  },
  {
   "cell_type": "code",
   "execution_count": 14,
   "id": "fbb430c9",
   "metadata": {
    "scrolled": true
   },
   "outputs": [
    {
     "name": "stdout",
     "output_type": "stream",
     "text": [
      "[-1.0000000e+00  1.0000000e+00  4.4408921e-16]\n"
     ]
    }
   ],
   "source": [
    "print(PLU_solver(mtx,b))"
   ]
  }
 ],
 "metadata": {
  "celltoolbar": "Необработанный формат ячейки",
  "kernelspec": {
   "display_name": "Python 3 (ipykernel)",
   "language": "python",
   "name": "python3"
  },
  "language_info": {
   "codemirror_mode": {
    "name": "ipython",
    "version": 3
   },
   "file_extension": ".py",
   "mimetype": "text/x-python",
   "name": "python",
   "nbconvert_exporter": "python",
   "pygments_lexer": "ipython3",
   "version": "3.8.5"
  }
 },
 "nbformat": 4,
 "nbformat_minor": 5
}
