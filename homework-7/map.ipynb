{
 "cells": [
  {
   "cell_type": "code",
   "execution_count": 9,
   "id": "c9ff9adc",
   "metadata": {},
   "outputs": [
    {
     "name": "stdout",
     "output_type": "stream",
     "text": [
      "1 2 3 4 5\n",
      "1 3 5\n"
     ]
    }
   ],
   "source": [
    "#1 Четные индексы \n",
    "print(' '.join((list(map(str, input().split()))[::2])))"
   ]
  },
  {
   "cell_type": "code",
   "execution_count": 79,
   "id": "8bd53c5c",
   "metadata": {
    "scrolled": true
   },
   "outputs": [
    {
     "name": "stdout",
     "output_type": "stream",
     "text": [
      "1 2 5 4\n",
      "5 2\n"
     ]
    }
   ],
   "source": [
    "#2 Наибольший элемент и его индекс \n",
    "s = list(map(int, input().split()))\n",
    "print(max(s), s.index(max(s)))\n"
   ]
  },
  {
   "cell_type": "code",
   "execution_count": 80,
   "id": "0d59416e",
   "metadata": {},
   "outputs": [
    {
     "name": "stdout",
     "output_type": "stream",
     "text": [
      "1 2 3 4\n",
      "4 3 2 1\n"
     ]
    }
   ],
   "source": [
    "#3 Вывести в обратном порядке \n",
    "print(' '.join((list(map(str, input().split()))[::-1])))"
   ]
  },
  {
   "cell_type": "code",
   "execution_count": 77,
   "id": "a13bb668",
   "metadata": {},
   "outputs": [
    {
     "name": "stdout",
     "output_type": "stream",
     "text": [
      "1 2 3 4 5\n",
      "2 1 4 3 5\n"
     ]
    }
   ],
   "source": [
    "#4 Переставить соседние \n",
    "a = input().split()\n",
    "a[:(len(a) // 2 * 2):2], a[1::2] = a[1::2], a[:(len(a) // 2 * 2):2]\n",
    "print(' '.join(a))"
   ]
  },
  {
   "cell_type": "code",
   "execution_count": 39,
   "id": "b2cd0d27",
   "metadata": {},
   "outputs": [
    {
     "name": "stdout",
     "output_type": "stream",
     "text": [
      "1 2 3 4 5\n",
      "5 1 2 3 4\n"
     ]
    }
   ],
   "source": [
    "#5 Циклический сдвиг вправо\n",
    "a = input().split()\n",
    "print(' '.join(a[-1:]+a[:-1]))"
   ]
  },
  {
   "cell_type": "code",
   "execution_count": 53,
   "id": "68e25eb6",
   "metadata": {},
   "outputs": [
    {
     "name": "stdout",
     "output_type": "stream",
     "text": [
      " 7 6 5 4 3 2 1 \n",
      "2\n",
      "7 6 4 3 2 1\n"
     ]
    }
   ],
   "source": [
    "#6 Удалить элемент \n",
    "a = list(map(str, input().split()))\n",
    "n = list(map(int, input().split()))\n",
    "print(' '.join(a[:n[0]]+a[n[0]+1:]))\n"
   ]
  },
  {
   "cell_type": "code",
   "execution_count": 78,
   "id": "9a4da71f",
   "metadata": {},
   "outputs": [
    {
     "name": "stdout",
     "output_type": "stream",
     "text": [
      "1 2 3 4 5\n",
      "2 0\n",
      "1 2 0 3 4 5\n"
     ]
    }
   ],
   "source": [
    "#7 Вставить элемент \n",
    "a = input().split()\n",
    "n, elem = map(int, input().split())\n",
    "print(*a[:n], elem, *a[n:])"
   ]
  },
  {
   "cell_type": "code",
   "execution_count": 73,
   "id": "a0a589f9",
   "metadata": {},
   "outputs": [
    {
     "name": "stdout",
     "output_type": "stream",
     "text": [
      "1 2 3 4 5\n",
      "3\n",
      "3 4 5 1 2\n"
     ]
    }
   ],
   "source": [
    "#8 Большой сдвиг \n",
    "s, n = input().split(), int(input())\n",
    "print(*s[n - 1:], *s[:n - 1])\n"
   ]
  }
 ],
 "metadata": {
  "kernelspec": {
   "display_name": "Python 3 (ipykernel)",
   "language": "python",
   "name": "python3"
  },
  "language_info": {
   "codemirror_mode": {
    "name": "ipython",
    "version": 3
   },
   "file_extension": ".py",
   "mimetype": "text/x-python",
   "name": "python",
   "nbconvert_exporter": "python",
   "pygments_lexer": "ipython3",
   "version": "3.8.5"
  }
 },
 "nbformat": 4,
 "nbformat_minor": 5
}
