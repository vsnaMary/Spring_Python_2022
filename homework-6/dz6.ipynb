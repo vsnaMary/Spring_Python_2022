{
 "cells": [
  {
   "cell_type": "markdown",
   "metadata": {},
   "source": [
    "## 6-е домашнее задание - Библиотека numpy\n",
    "## Олохтонова Мария \n",
    "\n",
    "<b>Срок до 2 июня 2022г. (включительно)</b>\n",
    "\n",
    "Подпишите этот блокнот: укажите ФИО и номер группы. Выполненное задание загрузите в свой репозиторий «<b>Spring_Python_2022</b>» в github в папку \"<b>homework-6</b>\".  \n",
    "\n",
    "Перед выполнением этого домашнего задания полезно прочитать про возможности и основные методы библиотеки numpy:  \n",
    "http://acm.mipt.ru/twiki/bin/view/Cintro/PythonNumpy  \n"
   ]
  },
  {
   "cell_type": "markdown",
   "metadata": {},
   "source": [
    "1.\tСоздайте равномерное разбиение интервала от -1.3 до 2.5 на 64 отрезка."
   ]
  },
  {
   "cell_type": "code",
   "execution_count": 2,
   "metadata": {},
   "outputs": [
    {
     "name": "stdout",
     "output_type": "stream",
     "text": [
      "[-1.3        -1.23968254 -1.17936508 -1.11904762 -1.05873016 -0.9984127\n",
      " -0.93809524 -0.87777778 -0.81746032 -0.75714286 -0.6968254  -0.63650794\n",
      " -0.57619048 -0.51587302 -0.45555556 -0.3952381  -0.33492063 -0.27460317\n",
      " -0.21428571 -0.15396825 -0.09365079 -0.03333333  0.02698413  0.08730159\n",
      "  0.14761905  0.20793651  0.26825397  0.32857143  0.38888889  0.44920635\n",
      "  0.50952381  0.56984127  0.63015873  0.69047619  0.75079365  0.81111111\n",
      "  0.87142857  0.93174603  0.99206349  1.05238095  1.11269841  1.17301587\n",
      "  1.23333333  1.29365079  1.35396825  1.41428571  1.47460317  1.53492063\n",
      "  1.5952381   1.65555556  1.71587302  1.77619048  1.83650794  1.8968254\n",
      "  1.95714286  2.01746032  2.07777778  2.13809524  2.1984127   2.25873016\n",
      "  2.31904762  2.37936508  2.43968254  2.5       ]\n"
     ]
    }
   ],
   "source": [
    "import numpy as np\n",
    "\n",
    "a = np.linspace(-1.3,2.5,64)\n",
    "print(a)"
   ]
  },
  {
   "cell_type": "markdown",
   "metadata": {},
   "source": [
    "2.\tСгенерируйте numpy массив длины $3n$, заполненный циклически числами 1, 2, 3, 1, 2, 3, 1...."
   ]
  },
  {
   "cell_type": "code",
   "execution_count": 7,
   "metadata": {},
   "outputs": [
    {
     "name": "stdout",
     "output_type": "stream",
     "text": [
      "[1 2 3 1 2 3 1 2 3]\n"
     ]
    }
   ],
   "source": [
    "n=3\n",
    "a = np.tile([1,2,3], n)\n",
    "print(a)"
   ]
  },
  {
   "cell_type": "markdown",
   "metadata": {},
   "source": [
    "3.\tСоздайте массив первых 10 нечетных целых чисел."
   ]
  },
  {
   "cell_type": "code",
   "execution_count": 15,
   "metadata": {},
   "outputs": [
    {
     "name": "stdout",
     "output_type": "stream",
     "text": [
      "[ 1.  3.  5.  7.  9. 11. 13. 15. 17. 19.]\n"
     ]
    }
   ],
   "source": [
    "def odd(x):\n",
    "    return 2*x+1\n",
    "a = np.fromfunction(odd, (10,))\n",
    "print(a)"
   ]
  },
  {
   "cell_type": "markdown",
   "metadata": {},
   "source": [
    "4.  Создайте массив нулей размера 10 x 10, а затем создайте в нём \"рамку\" из единиц по краям."
   ]
  },
  {
   "cell_type": "code",
   "execution_count": 3,
   "metadata": {},
   "outputs": [
    {
     "name": "stdout",
     "output_type": "stream",
     "text": [
      "[[1. 1. 1. 1. 1. 1. 1. 1. 1. 1.]\n",
      " [1. 0. 0. 0. 0. 0. 0. 0. 0. 1.]\n",
      " [1. 0. 0. 0. 0. 0. 0. 0. 0. 1.]\n",
      " [1. 0. 0. 0. 0. 0. 0. 0. 0. 1.]\n",
      " [1. 0. 0. 0. 0. 0. 0. 0. 0. 1.]\n",
      " [1. 0. 0. 0. 0. 0. 0. 0. 0. 1.]\n",
      " [1. 0. 0. 0. 0. 0. 0. 0. 0. 1.]\n",
      " [1. 0. 0. 0. 0. 0. 0. 0. 0. 1.]\n",
      " [1. 0. 0. 0. 0. 0. 0. 0. 0. 1.]\n",
      " [1. 1. 1. 1. 1. 1. 1. 1. 1. 1.]]\n"
     ]
    }
   ],
   "source": [
    "a = np.zeros((10,10))\n",
    "a[0] += 1\n",
    "a[-1] += 1\n",
    "a[1:-1,0] += 1\n",
    "a[1:-1,-1] += 1\n",
    "print(a)"
   ]
  },
  {
   "cell_type": "markdown",
   "metadata": {},
   "source": [
    "5.  Создайте массив 8 x 8 с шахматной доской из нулей и единиц."
   ]
  },
  {
   "cell_type": "code",
   "execution_count": 25,
   "metadata": {},
   "outputs": [
    {
     "name": "stdout",
     "output_type": "stream",
     "text": [
      "[[1. 0. 1. 0. 1. 0. 1. 0.]\n",
      " [0. 1. 0. 1. 0. 1. 0. 1.]\n",
      " [1. 0. 1. 0. 1. 0. 1. 0.]\n",
      " [0. 1. 0. 1. 0. 1. 0. 1.]\n",
      " [1. 0. 1. 0. 1. 0. 1. 0.]\n",
      " [0. 1. 0. 1. 0. 1. 0. 1.]\n",
      " [1. 0. 1. 0. 1. 0. 1. 0.]\n",
      " [0. 1. 0. 1. 0. 1. 0. 1.]]\n"
     ]
    }
   ],
   "source": [
    "a = np.zeros((8,8))\n",
    "a[::2,::2] = 1\n",
    "a[1::2,1::2] = 1\n",
    "print(a)"
   ]
  },
  {
   "cell_type": "markdown",
   "metadata": {},
   "source": [
    "6.  Создайте функцию, которая создает $n×n$ матрицу с $(i,j)$-элементом, равным $i+j$."
   ]
  },
  {
   "cell_type": "code",
   "execution_count": 29,
   "metadata": {},
   "outputs": [
    {
     "name": "stdout",
     "output_type": "stream",
     "text": [
      "[[0. 1. 2. 3. 4.]\n",
      " [1. 2. 3. 4. 5.]\n",
      " [2. 3. 4. 5. 6.]\n",
      " [3. 4. 5. 6. 7.]\n",
      " [4. 5. 6. 7. 8.]]\n"
     ]
    }
   ],
   "source": [
    "def ij(i,j):\n",
    "    return i+j\n",
    "n = 5\n",
    "a = np.fromfunction(ij, (n,n))\n",
    "print(a)"
   ]
  },
  {
   "cell_type": "markdown",
   "metadata": {},
   "source": [
    "7. Примените функцию dot для перемножения вектор на вектор, матрицу на вектор и матрицу на матрицу."
   ]
  },
  {
   "cell_type": "code",
   "execution_count": 38,
   "metadata": {},
   "outputs": [
    {
     "name": "stdout",
     "output_type": "stream",
     "text": [
      "55 \n",
      "\n",
      "[ 40.  55.  70.  85. 100.] \n",
      "\n",
      "[[ 30.  40.  50.  60.  70.]\n",
      " [ 40.  55.  70.  85. 100.]\n",
      " [ 50.  70.  90. 110. 130.]\n",
      " [ 60.  85. 110. 135. 160.]\n",
      " [ 70. 100. 130. 160. 190.]]\n"
     ]
    }
   ],
   "source": [
    "v = np.array([1, 2, 3, 4, 5])\n",
    "print(v.dot(v), '\\n')\n",
    "print(a.dot(v), '\\n')\n",
    "print(a.dot(a))"
   ]
  },
  {
   "cell_type": "markdown",
   "metadata": {},
   "source": [
    "8. Вычислите cos(x) и sin(x) на интервале [0,1] с шагом $0.05$, а затем объедините оба массива чисел как строки в один массив."
   ]
  },
  {
   "cell_type": "code",
   "execution_count": 50,
   "metadata": {},
   "outputs": [
    {
     "name": "stdout",
     "output_type": "stream",
     "text": [
      "[1.         0.99861528 0.99446495 0.9875605  0.97792106 0.96557333\n",
      " 0.95055149 0.93289715 0.91265921 0.88989371 0.8646637  0.83703905\n",
      " 0.80709627 0.77491828 0.7405942  0.70421909 0.66589368 0.62572411\n",
      " 0.58382164 0.54030231 0.         0.05260728 0.10506887 0.15723948\n",
      " 0.20897462 0.26013102 0.310567   0.36014289 0.40872137 0.45616793\n",
      " 0.50235115 0.54714315 0.59041986 0.63206143 0.67195255 0.70998273\n",
      " 0.74604665 0.78004444 0.81188195 0.84147098]\n"
     ]
    }
   ],
   "source": [
    "a = np.cos(np.linspace(0.,1., 20))\n",
    "b = np.sin(np.linspace(0.,1., 20))\n",
    "m = np.concatenate((a,b))\n",
    "print(m)"
   ]
  },
  {
   "cell_type": "markdown",
   "metadata": {},
   "source": [
    "9. Создайте матрицу $A$ размера $3×5$ из случайных чисел с равномерным распределением на отрезке $[-1,3]$ (используйте np.random.rand)"
   ]
  },
  {
   "cell_type": "code",
   "execution_count": 101,
   "metadata": {},
   "outputs": [
    {
     "name": "stdout",
     "output_type": "stream",
     "text": [
      "[[-0.47232845  0.6156555   1.66030151  2.24403583 -0.69433286]\n",
      " [ 2.58212744  1.26556133 -0.95915146  0.44251695  0.676492  ]\n",
      " [ 2.15778316  0.05053898  2.60289414  0.40419129  0.24881144]]\n"
     ]
    }
   ],
   "source": [
    "a = (3 -(-1))*np.random.rand(3,5) + (-1)\n",
    "print(a)"
   ]
  },
  {
   "cell_type": "markdown",
   "metadata": {},
   "source": [
    "10. Найдите сумму всех элементов, сумму внутри строк, сумму внутри столбцов, а также среднее значение, дисперсию и стандартное отклонение чисел для каждой строки матрицы $A$. (Подобно тому, как sorted имеет необязательный аргумент key=, многие функции Numpy имеют необязательный аргумент axis=)\n"
   ]
  },
  {
   "cell_type": "code",
   "execution_count": 27,
   "metadata": {},
   "outputs": [
    {
     "name": "stdout",
     "output_type": "stream",
     "text": [
      "сумма всех элементов:  45\n",
      "суммы по столбцам:  [12 15 18]\n",
      "суммы по строкам:  [ 6 15 24]\n",
      "среднее по строкам:  [2. 5. 8.]\n",
      "дисперсия по строкам:  [0.66666667 0.66666667 0.66666667]\n",
      "стандартное отклонение чисел по строкам:  [0.81649658 0.81649658 0.81649658]\n"
     ]
    }
   ],
   "source": [
    "m = np.array([[1, 2, 3], \n",
    "              [4, 5, 6], \n",
    "              [7, 8, 9]])\n",
    "print('сумма всех элементов: ', np.sum(m))\n",
    "print('суммы по столбцам: ', np.sum(m, axis = 0))\n",
    "print('суммы по строкам: ', np.sum(m, axis = 1))\n",
    "print('среднее по строкам: ', np.mean(m, axis = 1))\n",
    "print('дисперсия по строкам: ', np.var(m, axis = 1))\n",
    "print('стандартное отклонение чисел по строкам: ', np.std(m, axis = 1))"
   ]
  },
  {
   "cell_type": "markdown",
   "metadata": {},
   "source": [
    "11.  Отнимите от каждого элемента матрицы $A$ среднее по строке и поделите на стандартное отклонение строки."
   ]
  },
  {
   "cell_type": "code",
   "execution_count": 45,
   "metadata": {},
   "outputs": [
    {
     "name": "stdout",
     "output_type": "stream",
     "text": [
      "[[-1.22474487  0.          1.22474487]\n",
      " [-1.22474487  0.          1.22474487]\n",
      " [-1.22474487  0.          1.22474487]]\n"
     ]
    }
   ],
   "source": [
    "a = np.array([[1, 2, 3], \n",
    "              [4, 5, 6], \n",
    "              [7, 8, 9]])\n",
    "stdstr = np.std(a, axis = 1).reshape(-1,1)\n",
    "a = (a - a.mean(axis = 1).reshape(-1,1))/stdstr\n",
    "print(a)\n",
    "#a = a / stdstr\n",
    "#print(a)\n",
    "\n"
   ]
  },
  {
   "cell_type": "markdown",
   "metadata": {},
   "source": [
    "12. Отсортируйте матрицу $A$ по 3-ому столбцу, т.е. поменяйте местами строки матрицы так, чтобы 3-й столбец оказался отсортированным. Используйте для этого slicing + argsort + indexing."
   ]
  },
  {
   "cell_type": "code",
   "execution_count": 105,
   "metadata": {},
   "outputs": [
    {
     "name": "stdout",
     "output_type": "stream",
     "text": [
      "[[7 8 3]\n",
      " [4 5 6]\n",
      " [1 2 9]]\n"
     ]
    }
   ],
   "source": [
    "a = np.array([[1, 2, 9], \n",
    "              [4, 5, 6], \n",
    "              [7, 8, 3]])\n",
    "print(a[a[:,2].argsort()])"
   ]
  },
  {
   "cell_type": "markdown",
   "metadata": {},
   "source": [
    "13. Посчитайте две матрицы: $B = A^TA$ и $C = AA^T$. Что вы можете о них сказать? Какого они размера? В чём их сходство и отличие?"
   ]
  },
  {
   "cell_type": "code",
   "execution_count": 79,
   "metadata": {},
   "outputs": [
    {
     "name": "stdout",
     "output_type": "stream",
     "text": [
      "[[ 1  4  7]\n",
      " [ 2  5  8]\n",
      " [ 3  6 10]]\n",
      "[[ 66  78  97]\n",
      " [ 78  93 116]\n",
      " [ 97 116 145]]\n",
      "[[ 14  32  53]\n",
      " [ 32  77 128]\n",
      " [ 53 128 213]]\n"
     ]
    }
   ],
   "source": [
    "#a = np.array([[1, 2, 3], \n",
    "#              [4, 5, 6],])\n",
    "a = np.array([[1, 2, 3], \n",
    "              [4, 5, 6], \n",
    "              [7, 8, 10]])\n",
    "atr = a.transpose()\n",
    "print(atr)\n",
    "b = atr.dot(a)\n",
    "c = a.dot(atr)\n",
    "print(b)\n",
    "print(c)\n",
    "# 3x2 2x3 => 3x3\n",
    "# 2x3 3x2 => 2x2"
   ]
  },
  {
   "cell_type": "markdown",
   "metadata": {},
   "source": [
    "14. Найдите сумму диагональных элементов матриц $B$ и $C$."
   ]
  },
  {
   "cell_type": "code",
   "execution_count": 80,
   "metadata": {},
   "outputs": [
    {
     "name": "stdout",
     "output_type": "stream",
     "text": [
      "304\n",
      "304\n"
     ]
    }
   ],
   "source": [
    "b_sum = sum(np.diag(b))\n",
    "print(b_sum)\n",
    "c_sum = sum(np.diag(c))\n",
    "print(c_sum)"
   ]
  },
  {
   "cell_type": "markdown",
   "metadata": {},
   "source": [
    "15.\tПосчитайте детерминант и ранг матриц $A$, $B$ и $C$, посмотрите на спектр (набор собственных значений) матриц $B$ и $C$, какие выводы вы можете сделать?  \n",
    "(подсказка: используйте готовые функции из библиотеки np.linalg). \n"
   ]
  },
  {
   "cell_type": "code",
   "execution_count": 87,
   "metadata": {},
   "outputs": [
    {
     "name": "stdout",
     "output_type": "stream",
     "text": [
      "-2.9999999999999996\n",
      "8.999999999999526\n",
      "8.999999999999998\n",
      "3\n",
      "3\n",
      "3\n",
      "[3.87564271e-02 7.65907389e-01 3.03195336e+02]\n",
      "[3.87564271e-02 7.65907389e-01 3.03195336e+02]\n"
     ]
    }
   ],
   "source": [
    "import numpy.linalg as lg \n",
    "\n",
    "print(lg.det(a))\n",
    "print(lg.det(b))\n",
    "print(lg.det(c))\n",
    "print(lg.matrix_rank(a))\n",
    "print(lg.matrix_rank(b))\n",
    "print(lg.matrix_rank(c))\n",
    "print(lg.eigh(b)[0])\n",
    "print(lg.eigh(c)[0])\n",
    "# Вывыды: всё совпало для b и c"
   ]
  },
  {
   "cell_type": "markdown",
   "metadata": {},
   "source": [
    "16. Численно посчитать определённый интеграл  3-мя методами:  \n",
    "a)\tПрямоугольников $\\int\\limits_a^b {f(x)dx \\approx \\Delta x\\sum\\limits_{k = 0}^N {f({x_k})} }$  \n",
    "b)\tТрапеций $\\int\\limits_a^b {f(x)dx \\approx \\frac{{\\Delta x}}{2}\\left( {f({x_0}) + 2\\sum\\limits_{k = 1}^{N - 1} {f({x_k})}  + f({x_N})} \\right)}$  \n",
    "c)\tПо правилу Симпсона  $\\int\\limits_a^b {f(x)dx \\approx \\frac{{\\Delta x}}{3}\\left( {f({x_0}) + 2\\sum\\limits_{k = 1}^{N/2 - 1} {f({x_{2k}})}  + 4\\sum\\limits_{k = 1}^{N/2} {f({x_{2k - 1}})}  + f({x_N})} \\right)}$  \n",
    "\n",
    "\n",
    "В реализации этих методов цикл for для суммирования использовать нельзя.  \n",
    "Нужно посчитать значение интеграла с некоторым шагом интегрирования (например начать с 0.1), потом уменьшить его в десять раз и ещё раз посчитать и так до тех пор пока отличие в ответах будет в 5-м знаке после запятой, т.е. чтобы ошибка была меньше 1e-5. Получить ответы для 3-х разных методов и сделать соответствующие выводы.  \n",
    "\n",
    "Далее необходимо сравнить полученные оценки с аналитическим решением (т.е. формульным, которое вы должны сами посчитать на листочке и вбить формулу-ответ).   \n",
    "\n",
    "В качестве интеграла взять один из следующих с номером, сгенерированным случайным образом с помощью функции np.random.randint(10), в качестве seed для генератора случайных чисел взять номер своего студенческого билета.\n",
    "\n",
    "<table width=\"80%\"\n",
    "       align=\"center\">\n",
    "    <tr>\n",
    "        <td> 0) $\\int\\limits_3^4 {\\frac{{{x^2} + 3}}{{x - 2}}dx}$ </td>\n",
    "        <td> 1) $\\int\\limits_{ - 2}^{ - 1} {\\frac{{x + 1}}{{{x^3} - {x^2}}}dx}$ </td>\n",
    "        <td> 2) $\\int\\limits_1^2 {\\frac{{{e^{1/{x^2}}}}}{{{x^3}}}dx}$ </td>\n",
    "        <td> 3) $\\int\\limits_1^e {\\frac{{\\cos (\\ln x)}}{x}dx}$ </td>\n",
    "        <td> 4) $\\int\\limits_1^e {\\frac{{dx}}{{x(1 + {{\\ln }^2}x)}}}$ </td>\n",
    "    </tr>                \n",
    "    <tr>\n",
    "        <td> 5) $\\int\\limits_0^{\\pi /2} {{{\\cos }^3}\\alpha \\;d\\alpha }$ </td>\n",
    "        <td> 6) $\\int\\limits_0^{1/3} {c{h^2}3x\\;dx}$ </td>\n",
    "        <td> 7) $\\int\\limits_2^3 {\\frac{{dy}}{{{y^2} - 2y - 8}}dy}$ </td>\n",
    "        <td> 8) $\\int\\limits_{3/4}^2 {\\frac{{dx}}{{\\sqrt {2 + 3x - 2{x^2}} }}}$ </td>\n",
    "        <td> 9) $\\int\\limits_0^2 {\\frac{{2x - 1}}{{2x + 1}}dx}$ </td>\n",
    "        </tr>\n",
    "</table>"
   ]
  },
  {
   "cell_type": "code",
   "execution_count": 106,
   "metadata": {},
   "outputs": [
    {
     "name": "stdout",
     "output_type": "stream",
     "text": [
      "0\n"
     ]
    }
   ],
   "source": [
    "np.random.seed(1032192925)\n",
    "print(np.random.randint(10))"
   ]
  },
  {
   "cell_type": "code",
   "execution_count": 122,
   "metadata": {},
   "outputs": [
    {
     "name": "stdout",
     "output_type": "stream",
     "text": [
      "10.352030263919616\n"
     ]
    }
   ],
   "source": [
    "exact = 11 / 2 + np.log(128)\n",
    "print(exact)"
   ]
  },
  {
   "cell_type": "code",
   "execution_count": null,
   "metadata": {},
   "outputs": [
    {
     "name": "stdout",
     "output_type": "stream",
     "text": [
      "rect h =  0.1 error =  0.1293695583083796\n",
      "rect h =  0.010000000000000002 error =  0.09097611128358629\n",
      "rect h =  0.0010000000000000002 error =  0.009101592326032915\n",
      "rect h =  0.00010000000000000003 error =  0.0009101986509492122\n",
      "rect h =  1.0000000000000004e-05 error =  9.102025888374499e-05\n",
      "rect h =  1.0000000000000004e-06 error =  9.102029823182534e-06\n",
      "rect h =  1.0000000000000005e-07 error =  9.102030205099254e-07\n",
      "rect h =  1.0000000000000005e-08 error =  9.102029530083655e-08\n"
     ]
    }
   ],
   "source": [
    "def f(x):\n",
    "    return (x * x + 3) / (x - 2)\n",
    "\n",
    "a = 3\n",
    "b = 4\n",
    "\n",
    "def rectangle(h):\n",
    "    n = int((b - a) / h)\n",
    "    xs = np.linspace(a, b, n + 1)\n",
    "    ys = f(xs)\n",
    "    s = np.sum(ys[:-1])\n",
    "    return s * h\n",
    "\n",
    "def trapezoid(h):\n",
    "    n = int((b - a) / h)\n",
    "    xs = np.linspace(a, b, n + 1)\n",
    "    ys = f(xs)\n",
    "    s = np.sum(ys[1:-1])\n",
    "    return h / 2 * (ys[0] + 2 * s + ys[-1])\n",
    "\n",
    "def simpson(h):\n",
    "    n = int((b - a) / h)\n",
    "    xs = np.linspace(a, b, n + 1)\n",
    "    ys = f(xs)\n",
    "    s1 = np.sum(ys[2:-1:2])\n",
    "    s2 = np.sum(ys[1::2])\n",
    "    return h / 3 * (ys[0] + 2 * s1 + 4 * s2 + ys[-1])\n",
    "\n",
    "def find_good_h(title, function):\n",
    "    h = 0.1\n",
    "    while True:\n",
    "        error = np.abs(function(h) - exact)\n",
    "        if error > 1e-5:\n",
    "            print(title, 'h = ', h, 'error = ', error)\n",
    "            h *= 0.1\n",
    "        else:\n",
    "            print(title, 'Good h = ', h)\n",
    "            break\n",
    "            \n",
    "find_good_h('rect', rectangle)\n",
    "find_good_h('trap', trapezoid)\n",
    "find_good_h('simp', simpson)"
   ]
  }
 ],
 "metadata": {
  "kernelspec": {
   "display_name": "Python 3 (ipykernel)",
   "language": "python",
   "name": "python3"
  },
  "language_info": {
   "codemirror_mode": {
    "name": "ipython",
    "version": 3
   },
   "file_extension": ".py",
   "mimetype": "text/x-python",
   "name": "python",
   "nbconvert_exporter": "python",
   "pygments_lexer": "ipython3",
   "version": "3.8.5"
  }
 },
 "nbformat": 4,
 "nbformat_minor": 2
}
